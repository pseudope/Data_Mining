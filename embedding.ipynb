{
 "cells": [
  {
   "cell_type": "code",
   "execution_count": 1,
   "id": "initial_id",
   "metadata": {
    "collapsed": true
   },
   "outputs": [],
   "source": [
    "import os\n",
    "\n",
    "import torch\n",
    "import numpy as np\n",
    "import pandas as pd\n",
    "\n",
    "from sklearn.cluster import KMeans\n",
    "\n",
    "from preprocess import get_csv"
   ]
  },
  {
   "cell_type": "code",
   "execution_count": 2,
   "metadata": {},
   "outputs": [
    {
     "data": {
      "application/vnd.jupyter.widget-view+json": {
       "model_id": "ad1dd5fb19e747459a568b89dc2ba942",
       "version_major": 2,
       "version_minor": 0
      },
      "text/plain": [
       "Downloading .gitattributes:   0%|          | 0.00/1.18k [00:00<?, ?B/s]"
      ]
     },
     "metadata": {},
     "output_type": "display_data"
    },
    {
     "data": {
      "application/vnd.jupyter.widget-view+json": {
       "model_id": "ae060b09522b4cf28806505591cafa15",
       "version_major": 2,
       "version_minor": 0
      },
      "text/plain": [
       "Downloading 1_Pooling/config.json:   0%|          | 0.00/190 [00:00<?, ?B/s]"
      ]
     },
     "metadata": {},
     "output_type": "display_data"
    },
    {
     "data": {
      "application/vnd.jupyter.widget-view+json": {
       "model_id": "584297d16eb1465e889d0038cce3d548",
       "version_major": 2,
       "version_minor": 0
      },
      "text/plain": [
       "Downloading README.md:   0%|          | 0.00/10.6k [00:00<?, ?B/s]"
      ]
     },
     "metadata": {},
     "output_type": "display_data"
    },
    {
     "data": {
      "application/vnd.jupyter.widget-view+json": {
       "model_id": "9b502c573f0740c5af2718a291f7fc14",
       "version_major": 2,
       "version_minor": 0
      },
      "text/plain": [
       "Downloading config.json:   0%|          | 0.00/612 [00:00<?, ?B/s]"
      ]
     },
     "metadata": {},
     "output_type": "display_data"
    },
    {
     "data": {
      "application/vnd.jupyter.widget-view+json": {
       "model_id": "426eff54a5dd48708fd02cbaad928b96",
       "version_major": 2,
       "version_minor": 0
      },
      "text/plain": [
       "Downloading (…)ce_transformers.json:   0%|          | 0.00/116 [00:00<?, ?B/s]"
      ]
     },
     "metadata": {},
     "output_type": "display_data"
    },
    {
     "data": {
      "application/vnd.jupyter.widget-view+json": {
       "model_id": "4b5bd6fe3ed44cbbb1fcfc3732dfef43",
       "version_major": 2,
       "version_minor": 0
      },
      "text/plain": [
       "Downloading data_config.json:   0%|          | 0.00/39.3k [00:00<?, ?B/s]"
      ]
     },
     "metadata": {},
     "output_type": "display_data"
    },
    {
     "data": {
      "application/vnd.jupyter.widget-view+json": {
       "model_id": "b6a2f0901bf4426d9d1a890621de008d",
       "version_major": 2,
       "version_minor": 0
      },
      "text/plain": [
       "Downloading pytorch_model.bin:   0%|          | 0.00/90.9M [00:00<?, ?B/s]"
      ]
     },
     "metadata": {},
     "output_type": "display_data"
    },
    {
     "data": {
      "application/vnd.jupyter.widget-view+json": {
       "model_id": "a7228c17c1924c7e84c2178131375910",
       "version_major": 2,
       "version_minor": 0
      },
      "text/plain": [
       "Downloading (…)nce_bert_config.json:   0%|          | 0.00/53.0 [00:00<?, ?B/s]"
      ]
     },
     "metadata": {},
     "output_type": "display_data"
    },
    {
     "data": {
      "application/vnd.jupyter.widget-view+json": {
       "model_id": "13ba51fbdc404e9c8a6243b47fa4a24e",
       "version_major": 2,
       "version_minor": 0
      },
      "text/plain": [
       "Downloading (…)cial_tokens_map.json:   0%|          | 0.00/112 [00:00<?, ?B/s]"
      ]
     },
     "metadata": {},
     "output_type": "display_data"
    },
    {
     "data": {
      "application/vnd.jupyter.widget-view+json": {
       "model_id": "bae9ab3dbd234272a2350ddc1119e07a",
       "version_major": 2,
       "version_minor": 0
      },
      "text/plain": [
       "Downloading tokenizer.json:   0%|          | 0.00/466k [00:00<?, ?B/s]"
      ]
     },
     "metadata": {},
     "output_type": "display_data"
    },
    {
     "data": {
      "application/vnd.jupyter.widget-view+json": {
       "model_id": "cdba15470c28483db220235042509b6b",
       "version_major": 2,
       "version_minor": 0
      },
      "text/plain": [
       "Downloading tokenizer_config.json:   0%|          | 0.00/350 [00:00<?, ?B/s]"
      ]
     },
     "metadata": {},
     "output_type": "display_data"
    },
    {
     "data": {
      "application/vnd.jupyter.widget-view+json": {
       "model_id": "2208ff93e1e64b328068d8a9c7bf38d5",
       "version_major": 2,
       "version_minor": 0
      },
      "text/plain": [
       "Downloading train_script.py:   0%|          | 0.00/13.2k [00:00<?, ?B/s]"
      ]
     },
     "metadata": {},
     "output_type": "display_data"
    },
    {
     "data": {
      "application/vnd.jupyter.widget-view+json": {
       "model_id": "b45fd29f60a6427497678714e83332ce",
       "version_major": 2,
       "version_minor": 0
      },
      "text/plain": [
       "Downloading vocab.txt:   0%|          | 0.00/232k [00:00<?, ?B/s]"
      ]
     },
     "metadata": {},
     "output_type": "display_data"
    },
    {
     "data": {
      "application/vnd.jupyter.widget-view+json": {
       "model_id": "7d489d65dddf419aab3e2c7087c68cbb",
       "version_major": 2,
       "version_minor": 0
      },
      "text/plain": [
       "Downloading modules.json:   0%|          | 0.00/349 [00:00<?, ?B/s]"
      ]
     },
     "metadata": {},
     "output_type": "display_data"
    }
   ],
   "source": [
    "from sentence_transformers import SentenceTransformer\n",
    "model = SentenceTransformer(\"all-MiniLM-L6-v2\")"
   ]
  },
  {
   "cell_type": "code",
   "execution_count": 3,
   "metadata": {},
   "outputs": [
    {
     "name": "stdout",
     "output_type": "stream",
     "text": [
      "The file already exists.\n",
      "                                               title       categories  \\\n",
      "0  Calculation of prompt diphoton production cros...           hep-ph   \n",
      "1           Sparsity-certifying Graph Decompositions    math.CO cs.CG   \n",
      "2  The evolution of the Earth-Moon system based o...   physics.gen-ph   \n",
      "3  A determinant of Stirling cycle numbers counts...          math.CO   \n",
      "4  From dyadic $\\Lambda_{\\alpha}$ to $\\Lambda_{\\a...  math.CA math.FA   \n",
      "\n",
      "                                            abstract    versions  \n",
      "0  A fully differential calculation in perturbati...  2007-07-24  \n",
      "1  We describe a new algorithm, the $(k,\\ell)$-pe...  2008-12-13  \n",
      "2  The evolution of Earth-Moon system is describe...  2008-01-13  \n",
      "3  We show that a determinant of Stirling cycle n...  2007-03-31  \n",
      "4  In this paper we show how to compute the $\\Lam...  2007-04-02  \n"
     ]
    }
   ],
   "source": [
    "# Set the file path for your CSV file\n",
    "file_path = 'arxiv-metadata-oai-snapshot.csv'\n",
    "\n",
    "# Check if the file exists\n",
    "if not os.path.exists(file_path):\n",
    "    # If the file does not exist, call the get_csv method\n",
    "    print(\"Creating CSV from JSON file.\")\n",
    "    get_csv()\n",
    "else:\n",
    "    print(\"The file already exists.\")\n",
    "\n",
    "# Read the CSV file into a DataFrame\n",
    "df = pd.read_csv(file_path)\n",
    "\n",
    "# Display the first few rows of the DataFrame to confirm it's loaded correctly\n",
    "print(df.head())"
   ]
  },
  {
   "cell_type": "code",
   "execution_count": 26,
   "metadata": {},
   "outputs": [
    {
     "name": "stdout",
     "output_type": "stream",
     "text": [
      "The file already exists.\n",
      "(2367176, 384)\n"
     ]
    }
   ],
   "source": [
    "corpus = df[\"abstract\"]\n",
    "title = df[\"title\"]\n",
    "\n",
    "# Set the file path for your CSV file\n",
    "embeddings_path = 'embeddings.npy'\n",
    "\n",
    "# Check if the file exists\n",
    "if not os.path.exists(embeddings_path):\n",
    "    # If the file does not exist, call the get_embedding method\n",
    "    print(\"Creating CSV from JSON file.\")\n",
    "    corpus_embeddings = model.encode(corpus, show_progress_bar=True)\n",
    "    np.save(\"./embeddings.npy\", corpus_embeddings, allow_pickle=True)\n",
    "else:\n",
    "    print(\"The file already exists.\")\n",
    "    corpus_embeddings = np.load(\"./embeddings.npy\", allow_pickle=True)\n",
    "\n",
    "print(corpus_embeddings.shape)"
   ]
  },
  {
   "cell_type": "code",
   "execution_count": 11,
   "metadata": {},
   "outputs": [],
   "source": [
    "### We need to make this cell into a function.\n",
    "\n",
    "num_clusters = 20\n",
    "clustering_model = KMeans(n_clusters=num_clusters)\n",
    "clustering_model.fit(corpus_embeddings)\n",
    "cluster_assignment = clustering_model.labels_\n",
    "\n",
    "clustered_sentences = [[] for i in range(num_clusters)]\n",
    "for sentence_id, cluster_id in enumerate(cluster_assignment):\n",
    "    clustered_sentences[cluster_id].append(title[sentence_id])\n",
    "\n",
    "# for i, cluster in enumerate(clustered_sentences):\n",
    "#     print(\"Cluster \", i + 1)\n",
    "#     print(cluster)\n",
    "#     print(\"\")"
   ]
  },
  {
   "cell_type": "code",
   "execution_count": 23,
   "metadata": {},
   "outputs": [
    {
     "data": {
      "text/html": [
       "<div>\n",
       "<style scoped>\n",
       "    .dataframe tbody tr th:only-of-type {\n",
       "        vertical-align: middle;\n",
       "    }\n",
       "\n",
       "    .dataframe tbody tr th {\n",
       "        vertical-align: top;\n",
       "    }\n",
       "\n",
       "    .dataframe thead th {\n",
       "        text-align: right;\n",
       "    }\n",
       "</style>\n",
       "<table border=\"1\" class=\"dataframe\">\n",
       "  <thead>\n",
       "    <tr style=\"text-align: right;\">\n",
       "      <th></th>\n",
       "      <th>title</th>\n",
       "      <th>categories</th>\n",
       "      <th>abstract</th>\n",
       "      <th>versions</th>\n",
       "      <th>clustering-20</th>\n",
       "    </tr>\n",
       "  </thead>\n",
       "  <tbody>\n",
       "    <tr>\n",
       "      <th>0</th>\n",
       "      <td>Calculation of prompt diphoton production cros...</td>\n",
       "      <td>hep-ph</td>\n",
       "      <td>A fully differential calculation in perturbati...</td>\n",
       "      <td>2007-07-24</td>\n",
       "      <td>6</td>\n",
       "    </tr>\n",
       "    <tr>\n",
       "      <th>1</th>\n",
       "      <td>Sparsity-certifying Graph Decompositions</td>\n",
       "      <td>math.CO cs.CG</td>\n",
       "      <td>We describe a new algorithm, the $(k,\\ell)$-pe...</td>\n",
       "      <td>2008-12-13</td>\n",
       "      <td>17</td>\n",
       "    </tr>\n",
       "    <tr>\n",
       "      <th>2</th>\n",
       "      <td>The evolution of the Earth-Moon system based o...</td>\n",
       "      <td>physics.gen-ph</td>\n",
       "      <td>The evolution of Earth-Moon system is describe...</td>\n",
       "      <td>2008-01-13</td>\n",
       "      <td>8</td>\n",
       "    </tr>\n",
       "    <tr>\n",
       "      <th>3</th>\n",
       "      <td>A determinant of Stirling cycle numbers counts...</td>\n",
       "      <td>math.CO</td>\n",
       "      <td>We show that a determinant of Stirling cycle n...</td>\n",
       "      <td>2007-03-31</td>\n",
       "      <td>17</td>\n",
       "    </tr>\n",
       "    <tr>\n",
       "      <th>4</th>\n",
       "      <td>From dyadic $\\Lambda_{\\alpha}$ to $\\Lambda_{\\a...</td>\n",
       "      <td>math.CA math.FA</td>\n",
       "      <td>In this paper we show how to compute the $\\Lam...</td>\n",
       "      <td>2007-04-02</td>\n",
       "      <td>18</td>\n",
       "    </tr>\n",
       "    <tr>\n",
       "      <th>...</th>\n",
       "      <td>...</td>\n",
       "      <td>...</td>\n",
       "      <td>...</td>\n",
       "      <td>...</td>\n",
       "      <td>...</td>\n",
       "    </tr>\n",
       "    <tr>\n",
       "      <th>2367171</th>\n",
       "      <td>On the origin of the irreversibility line in t...</td>\n",
       "      <td>supr-con cond-mat.supr-con</td>\n",
       "      <td>We report on measurements of the angular depen...</td>\n",
       "      <td>1996-08-26</td>\n",
       "      <td>12</td>\n",
       "    </tr>\n",
       "    <tr>\n",
       "      <th>2367172</th>\n",
       "      <td>Nonlinear Response of HTSC Thin Film Microwave...</td>\n",
       "      <td>supr-con cond-mat.supr-con</td>\n",
       "      <td>The non-linear microwave surface impedance of ...</td>\n",
       "      <td>1996-08-31</td>\n",
       "      <td>12</td>\n",
       "    </tr>\n",
       "    <tr>\n",
       "      <th>2367173</th>\n",
       "      <td>Critical State Flux Penetration and Linear Mic...</td>\n",
       "      <td>supr-con cond-mat.supr-con</td>\n",
       "      <td>The vortex contribution to the dc field (H) de...</td>\n",
       "      <td>1996-09-03</td>\n",
       "      <td>12</td>\n",
       "    </tr>\n",
       "    <tr>\n",
       "      <th>2367174</th>\n",
       "      <td>Density of States and NMR Relaxation Rate in A...</td>\n",
       "      <td>supr-con cond-mat.supr-con</td>\n",
       "      <td>We show that the density of states in an aniso...</td>\n",
       "      <td>1996-09-18</td>\n",
       "      <td>12</td>\n",
       "    </tr>\n",
       "    <tr>\n",
       "      <th>2367175</th>\n",
       "      <td>Ginzburg Landau theory for d-wave pairing and ...</td>\n",
       "      <td>supr-con cond-mat.supr-con</td>\n",
       "      <td>The Ginzburg Landau theory for d_{x^2-y^2}-wav...</td>\n",
       "      <td>1996-09-25</td>\n",
       "      <td>19</td>\n",
       "    </tr>\n",
       "  </tbody>\n",
       "</table>\n",
       "<p>2367176 rows × 5 columns</p>\n",
       "</div>"
      ],
      "text/plain": [
       "                                                     title  \\\n",
       "0        Calculation of prompt diphoton production cros...   \n",
       "1                 Sparsity-certifying Graph Decompositions   \n",
       "2        The evolution of the Earth-Moon system based o...   \n",
       "3        A determinant of Stirling cycle numbers counts...   \n",
       "4        From dyadic $\\Lambda_{\\alpha}$ to $\\Lambda_{\\a...   \n",
       "...                                                    ...   \n",
       "2367171  On the origin of the irreversibility line in t...   \n",
       "2367172  Nonlinear Response of HTSC Thin Film Microwave...   \n",
       "2367173  Critical State Flux Penetration and Linear Mic...   \n",
       "2367174  Density of States and NMR Relaxation Rate in A...   \n",
       "2367175  Ginzburg Landau theory for d-wave pairing and ...   \n",
       "\n",
       "                         categories  \\\n",
       "0                            hep-ph   \n",
       "1                     math.CO cs.CG   \n",
       "2                    physics.gen-ph   \n",
       "3                           math.CO   \n",
       "4                   math.CA math.FA   \n",
       "...                             ...   \n",
       "2367171  supr-con cond-mat.supr-con   \n",
       "2367172  supr-con cond-mat.supr-con   \n",
       "2367173  supr-con cond-mat.supr-con   \n",
       "2367174  supr-con cond-mat.supr-con   \n",
       "2367175  supr-con cond-mat.supr-con   \n",
       "\n",
       "                                                  abstract    versions  \\\n",
       "0        A fully differential calculation in perturbati...  2007-07-24   \n",
       "1        We describe a new algorithm, the $(k,\\ell)$-pe...  2008-12-13   \n",
       "2        The evolution of Earth-Moon system is describe...  2008-01-13   \n",
       "3        We show that a determinant of Stirling cycle n...  2007-03-31   \n",
       "4        In this paper we show how to compute the $\\Lam...  2007-04-02   \n",
       "...                                                    ...         ...   \n",
       "2367171  We report on measurements of the angular depen...  1996-08-26   \n",
       "2367172  The non-linear microwave surface impedance of ...  1996-08-31   \n",
       "2367173  The vortex contribution to the dc field (H) de...  1996-09-03   \n",
       "2367174  We show that the density of states in an aniso...  1996-09-18   \n",
       "2367175  The Ginzburg Landau theory for d_{x^2-y^2}-wav...  1996-09-25   \n",
       "\n",
       "         clustering-20  \n",
       "0                    6  \n",
       "1                   17  \n",
       "2                    8  \n",
       "3                   17  \n",
       "4                   18  \n",
       "...                ...  \n",
       "2367171             12  \n",
       "2367172             12  \n",
       "2367173             12  \n",
       "2367174             12  \n",
       "2367175             19  \n",
       "\n",
       "[2367176 rows x 5 columns]"
      ]
     },
     "execution_count": 23,
     "metadata": {},
     "output_type": "execute_result"
    }
   ],
   "source": [
    "df[\"clustering-{}\".format(num_clusters)] = cluster_assignment\n",
    "df"
   ]
  },
  {
   "cell_type": "code",
   "execution_count": 24,
   "metadata": {},
   "outputs": [],
   "source": [
    "df.to_csv(\"arxiv-metadata-oai-snapshot-clustering-{}.csv\".format(num_clusters), index=False)"
   ]
  },
  {
   "cell_type": "code",
   "execution_count": 25,
   "metadata": {},
   "outputs": [
    {
     "data": {
      "text/html": [
       "<div>\n",
       "<style scoped>\n",
       "    .dataframe tbody tr th:only-of-type {\n",
       "        vertical-align: middle;\n",
       "    }\n",
       "\n",
       "    .dataframe tbody tr th {\n",
       "        vertical-align: top;\n",
       "    }\n",
       "\n",
       "    .dataframe thead th {\n",
       "        text-align: right;\n",
       "    }\n",
       "</style>\n",
       "<table border=\"1\" class=\"dataframe\">\n",
       "  <thead>\n",
       "    <tr style=\"text-align: right;\">\n",
       "      <th></th>\n",
       "      <th>title</th>\n",
       "      <th>categories</th>\n",
       "      <th>abstract</th>\n",
       "      <th>versions</th>\n",
       "      <th>clustering-20</th>\n",
       "    </tr>\n",
       "  </thead>\n",
       "  <tbody>\n",
       "    <tr>\n",
       "      <th>0</th>\n",
       "      <td>Calculation of prompt diphoton production cros...</td>\n",
       "      <td>hep-ph</td>\n",
       "      <td>A fully differential calculation in perturbati...</td>\n",
       "      <td>2007-07-24</td>\n",
       "      <td>6</td>\n",
       "    </tr>\n",
       "    <tr>\n",
       "      <th>1</th>\n",
       "      <td>Sparsity-certifying Graph Decompositions</td>\n",
       "      <td>math.CO cs.CG</td>\n",
       "      <td>We describe a new algorithm, the $(k,\\ell)$-pe...</td>\n",
       "      <td>2008-12-13</td>\n",
       "      <td>17</td>\n",
       "    </tr>\n",
       "    <tr>\n",
       "      <th>2</th>\n",
       "      <td>The evolution of the Earth-Moon system based o...</td>\n",
       "      <td>physics.gen-ph</td>\n",
       "      <td>The evolution of Earth-Moon system is describe...</td>\n",
       "      <td>2008-01-13</td>\n",
       "      <td>8</td>\n",
       "    </tr>\n",
       "    <tr>\n",
       "      <th>3</th>\n",
       "      <td>A determinant of Stirling cycle numbers counts...</td>\n",
       "      <td>math.CO</td>\n",
       "      <td>We show that a determinant of Stirling cycle n...</td>\n",
       "      <td>2007-03-31</td>\n",
       "      <td>17</td>\n",
       "    </tr>\n",
       "    <tr>\n",
       "      <th>4</th>\n",
       "      <td>From dyadic $\\Lambda_{\\alpha}$ to $\\Lambda_{\\a...</td>\n",
       "      <td>math.CA math.FA</td>\n",
       "      <td>In this paper we show how to compute the $\\Lam...</td>\n",
       "      <td>2007-04-02</td>\n",
       "      <td>18</td>\n",
       "    </tr>\n",
       "    <tr>\n",
       "      <th>...</th>\n",
       "      <td>...</td>\n",
       "      <td>...</td>\n",
       "      <td>...</td>\n",
       "      <td>...</td>\n",
       "      <td>...</td>\n",
       "    </tr>\n",
       "    <tr>\n",
       "      <th>2367171</th>\n",
       "      <td>On the origin of the irreversibility line in t...</td>\n",
       "      <td>supr-con cond-mat.supr-con</td>\n",
       "      <td>We report on measurements of the angular depen...</td>\n",
       "      <td>1996-08-26</td>\n",
       "      <td>12</td>\n",
       "    </tr>\n",
       "    <tr>\n",
       "      <th>2367172</th>\n",
       "      <td>Nonlinear Response of HTSC Thin Film Microwave...</td>\n",
       "      <td>supr-con cond-mat.supr-con</td>\n",
       "      <td>The non-linear microwave surface impedance of ...</td>\n",
       "      <td>1996-08-31</td>\n",
       "      <td>12</td>\n",
       "    </tr>\n",
       "    <tr>\n",
       "      <th>2367173</th>\n",
       "      <td>Critical State Flux Penetration and Linear Mic...</td>\n",
       "      <td>supr-con cond-mat.supr-con</td>\n",
       "      <td>The vortex contribution to the dc field (H) de...</td>\n",
       "      <td>1996-09-03</td>\n",
       "      <td>12</td>\n",
       "    </tr>\n",
       "    <tr>\n",
       "      <th>2367174</th>\n",
       "      <td>Density of States and NMR Relaxation Rate in A...</td>\n",
       "      <td>supr-con cond-mat.supr-con</td>\n",
       "      <td>We show that the density of states in an aniso...</td>\n",
       "      <td>1996-09-18</td>\n",
       "      <td>12</td>\n",
       "    </tr>\n",
       "    <tr>\n",
       "      <th>2367175</th>\n",
       "      <td>Ginzburg Landau theory for d-wave pairing and ...</td>\n",
       "      <td>supr-con cond-mat.supr-con</td>\n",
       "      <td>The Ginzburg Landau theory for d_{x^2-y^2}-wav...</td>\n",
       "      <td>1996-09-25</td>\n",
       "      <td>19</td>\n",
       "    </tr>\n",
       "  </tbody>\n",
       "</table>\n",
       "<p>2367176 rows × 5 columns</p>\n",
       "</div>"
      ],
      "text/plain": [
       "                                                     title  \\\n",
       "0        Calculation of prompt diphoton production cros...   \n",
       "1                 Sparsity-certifying Graph Decompositions   \n",
       "2        The evolution of the Earth-Moon system based o...   \n",
       "3        A determinant of Stirling cycle numbers counts...   \n",
       "4        From dyadic $\\Lambda_{\\alpha}$ to $\\Lambda_{\\a...   \n",
       "...                                                    ...   \n",
       "2367171  On the origin of the irreversibility line in t...   \n",
       "2367172  Nonlinear Response of HTSC Thin Film Microwave...   \n",
       "2367173  Critical State Flux Penetration and Linear Mic...   \n",
       "2367174  Density of States and NMR Relaxation Rate in A...   \n",
       "2367175  Ginzburg Landau theory for d-wave pairing and ...   \n",
       "\n",
       "                         categories  \\\n",
       "0                            hep-ph   \n",
       "1                     math.CO cs.CG   \n",
       "2                    physics.gen-ph   \n",
       "3                           math.CO   \n",
       "4                   math.CA math.FA   \n",
       "...                             ...   \n",
       "2367171  supr-con cond-mat.supr-con   \n",
       "2367172  supr-con cond-mat.supr-con   \n",
       "2367173  supr-con cond-mat.supr-con   \n",
       "2367174  supr-con cond-mat.supr-con   \n",
       "2367175  supr-con cond-mat.supr-con   \n",
       "\n",
       "                                                  abstract    versions  \\\n",
       "0        A fully differential calculation in perturbati...  2007-07-24   \n",
       "1        We describe a new algorithm, the $(k,\\ell)$-pe...  2008-12-13   \n",
       "2        The evolution of Earth-Moon system is describe...  2008-01-13   \n",
       "3        We show that a determinant of Stirling cycle n...  2007-03-31   \n",
       "4        In this paper we show how to compute the $\\Lam...  2007-04-02   \n",
       "...                                                    ...         ...   \n",
       "2367171  We report on measurements of the angular depen...  1996-08-26   \n",
       "2367172  The non-linear microwave surface impedance of ...  1996-08-31   \n",
       "2367173  The vortex contribution to the dc field (H) de...  1996-09-03   \n",
       "2367174  We show that the density of states in an aniso...  1996-09-18   \n",
       "2367175  The Ginzburg Landau theory for d_{x^2-y^2}-wav...  1996-09-25   \n",
       "\n",
       "         clustering-20  \n",
       "0                    6  \n",
       "1                   17  \n",
       "2                    8  \n",
       "3                   17  \n",
       "4                   18  \n",
       "...                ...  \n",
       "2367171             12  \n",
       "2367172             12  \n",
       "2367173             12  \n",
       "2367174             12  \n",
       "2367175             19  \n",
       "\n",
       "[2367176 rows x 5 columns]"
      ]
     },
     "execution_count": 25,
     "metadata": {},
     "output_type": "execute_result"
    }
   ],
   "source": [
    "df = pd.read_csv(\"arxiv-metadata-oai-snapshot-clustering-{}.csv\".format(num_clusters))\n",
    "df"
   ]
  }
 ],
 "metadata": {
  "kernelspec": {
   "display_name": "Python 3",
   "language": "python",
   "name": "python3"
  },
  "language_info": {
   "codemirror_mode": {
    "name": "ipython",
    "version": 3
   },
   "file_extension": ".py",
   "mimetype": "text/x-python",
   "name": "python",
   "nbconvert_exporter": "python",
   "pygments_lexer": "ipython3",
   "version": "3.7.11"
  }
 },
 "nbformat": 4,
 "nbformat_minor": 5
}
