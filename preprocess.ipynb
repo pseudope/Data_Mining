{
 "cells": [
  {
   "cell_type": "code",
   "execution_count": 1,
   "id": "d3726e67db42b871",
   "metadata": {
    "ExecuteTime": {
     "end_time": "2023-11-22T17:02:03.253535500Z",
     "start_time": "2023-11-22T17:02:03.212519800Z"
    },
    "collapsed": false
   },
   "outputs": [],
   "source": [
    "import os\n",
    "import pandas as pd\n",
    "from preprocess import get_csv"
   ]
  },
  {
   "cell_type": "code",
   "execution_count": 2,
   "id": "7719347a5ce93353",
   "metadata": {
    "ExecuteTime": {
     "end_time": "2023-11-22T17:02:06.371467800Z",
     "start_time": "2023-11-22T17:02:06.307798600Z"
    },
    "collapsed": false
   },
   "outputs": [
    {
     "name": "stdout",
     "output_type": "stream",
     "text": [
      "The file already exists.\n"
     ]
    }
   ],
   "source": [
    "# Set the file path for your CSV file\n",
    "file_path = 'arxiv-metadata-oai-snapshot.csv'\n",
    "\n",
    "# Check if the file exists\n",
    "if not os.path.exists(file_path):\n",
    "    # If the file does not exist, call the get_csv method\n",
    "    print(\"Creating CSV from JSON file.\")\n",
    "    get_csv()\n",
    "else:\n",
    "    print(\"The file already exists.\")"
   ]
  },
  {
   "cell_type": "code",
   "execution_count": 3,
   "id": "74d3971c82814c00",
   "metadata": {
    "ExecuteTime": {
     "end_time": "2023-11-22T17:05:02.102669100Z",
     "start_time": "2023-11-22T17:03:42.054166200Z"
    },
    "collapsed": false
   },
   "outputs": [
    {
     "name": "stdout",
     "output_type": "stream",
     "text": [
      "                                               title       categories  \\\n",
      "0  Calculation of prompt diphoton production cros...           hep-ph   \n",
      "1           Sparsity-certifying Graph Decompositions    math.CO cs.CG   \n",
      "2  The evolution of the Earth-Moon system based o...   physics.gen-ph   \n",
      "3  A determinant of Stirling cycle numbers counts...          math.CO   \n",
      "4  From dyadic $\\Lambda_{\\alpha}$ to $\\Lambda_{\\a...  math.CA math.FA   \n",
      "\n",
      "                                            abstract    versions  \n",
      "0  A fully differential calculation in perturbati...  2007-07-24  \n",
      "1  We describe a new algorithm, the $(k,\\ell)$-pe...  2008-12-13  \n",
      "2  The evolution of Earth-Moon system is describe...  2008-01-13  \n",
      "3  We show that a determinant of Stirling cycle n...  2007-03-31  \n",
      "4  In this paper we show how to compute the $\\Lam...  2007-04-02  \n"
     ]
    }
   ],
   "source": [
    "# Read the CSV file into a DataFrame\n",
    "df = pd.read_csv(file_path)\n",
    "\n",
    "# Display the first few rows of the DataFrame to confirm it's loaded correctly\n",
    "print(df.head())"
   ]
  }
 ],
 "metadata": {
  "kernelspec": {
   "display_name": "Python 3 (ipykernel)",
   "language": "python",
   "name": "python3"
  },
  "language_info": {
   "codemirror_mode": {
    "name": "ipython",
    "version": 3
   },
   "file_extension": ".py",
   "mimetype": "text/x-python",
   "name": "python",
   "nbconvert_exporter": "python",
   "pygments_lexer": "ipython3",
   "version": "3.7.11"
  }
 },
 "nbformat": 4,
 "nbformat_minor": 5
}
